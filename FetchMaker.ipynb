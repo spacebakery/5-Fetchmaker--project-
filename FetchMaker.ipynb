{
 "cells": [
  {
   "cell_type": "markdown",
   "source": [
    "# FetchMaker\n",
    "##### Codecademy | Analyze Data with Python | Hypothesis Testing with SciPy\n",
    "##### by Sebastian Hsiao\n",
    "***\n",
    "Congratulations! You’ve just started working at the hottest new tech startup, FetchMaker. FetchMaker’s mission is to match up prospective dog owners with their perfect pet. Data on thousands of adoptable dogs are in FetchMaker’s system, and it’s your job to analyze some of that data.\n",
    "\n"
   ],
   "metadata": {
    "collapsed": false
   },
   "id": "6a29d30a855ce676"
  },
  {
   "cell_type": "markdown",
   "source": [
    "### Play around with the data"
   ],
   "metadata": {
    "collapsed": false
   },
   "id": "efa2d53882438326"
  },
  {
   "cell_type": "markdown",
   "source": [
    "1.Let’s start by including a data interface called `fetchmaker` that will give you access to FetchMaker’s dog data.\n",
    "\n",
    "Use `import fetchmaker` at the top of your script.py file to import the `fetchmaker` package."
   ],
   "metadata": {
    "collapsed": false
   },
   "id": "ae2378a46b401ffb"
  },
  {
   "cell_type": "code",
   "execution_count": 1,
   "id": "initial_id",
   "metadata": {
    "collapsed": true,
    "ExecuteTime": {
     "end_time": "2023-12-24T20:53:15.808670Z",
     "start_time": "2023-12-24T20:53:14.694191Z"
    }
   },
   "outputs": [],
   "source": [
    "import fetchmaker\n",
    "import numpy as np\n",
    "from scipy.stats import binom_test\n",
    "from scipy.stats import f_oneway    # ANOVA Test\n",
    "from statsmodels.stats.multicomp import pairwise_tukeyhsd\n",
    "from scipy.stats import chi2_contingency    # Chi Square Contingency"
   ]
  },
  {
   "cell_type": "markdown",
   "source": [
    "2.The attributes that FetchMaker keeps track of are:\n",
    "\n",
    "- `weight`, an integer representing how heavy a dog is in pounds\n",
    "- `tail_length`, a float representing tail length in inches\n",
    "- `age`, in `years`\n",
    "- `color`, a String such as `\"brown\"` or `\"grey\"`\n",
    "- `is_rescue`, a boolean `0` or `1`\n",
    "The `fetchmaker` package lets you access this data for a specific breed of dog with the following format:\n",
    "\n",
    "```py\n",
    "fetchmaker.get_weight(\"poodle\")\n",
    "```\n",
    "\n",
    "This returns a Pandas DataFrame of the weights of the poodles recorded in the system. The other methods are `get_tail_length`, `get_color`, `get_age`, and `get_is_rescue`, which all take a breed as an input.\n",
    "\n",
    "Get the tail lengths of all of the `\"rottweiler\"`s in the system, and store it in a variable called `rottweiler_tl`."
   ],
   "metadata": {
    "collapsed": false
   },
   "id": "ecd2652d465ffb5a"
  },
  {
   "cell_type": "code",
   "execution_count": 2,
   "outputs": [
    {
     "data": {
      "text/plain": "<function fetchmaker.get_is_rescue(breed)>"
     },
     "execution_count": 2,
     "metadata": {},
     "output_type": "execute_result"
    }
   ],
   "source": [
    "fetchmaker.get_attribute('poodle', 'color')\n",
    "fetchmaker.get_weight('rottweiler')\n",
    "fetchmaker.get_tail_length\n",
    "fetchmaker.get_age\n",
    "fetchmaker.get_color\n",
    "fetchmaker.get_is_rescue"
   ],
   "metadata": {
    "collapsed": false,
    "ExecuteTime": {
     "end_time": "2023-12-24T20:53:15.824944Z",
     "start_time": "2023-12-24T20:53:15.812216Z"
    }
   },
   "id": "4e9dc2294bb21563"
  },
  {
   "cell_type": "markdown",
   "source": [
    "3.Print out the mean of `rottweiler_tl` and the standard deviation of `rottweiler_tl`, using `np.mean` and `np.std`."
   ],
   "metadata": {
    "collapsed": false
   },
   "id": "c146b031149dfe6d"
  },
  {
   "cell_type": "code",
   "execution_count": 3,
   "outputs": [
    {
     "name": "stdout",
     "output_type": "stream",
     "text": [
      "4.2360999999999995\n",
      "2.0647536874891395\n"
     ]
    }
   ],
   "source": [
    "rottweiler_tl = fetchmaker.get_tail_length('rottweiler')\n",
    "print(np.mean(rottweiler_tl))\n",
    "print(np.std(rottweiler_tl))"
   ],
   "metadata": {
    "collapsed": false,
    "ExecuteTime": {
     "end_time": "2023-12-24T20:53:15.831693Z",
     "start_time": "2023-12-24T20:53:15.821469Z"
    }
   },
   "id": "c5b384d0ccc9df32"
  },
  {
   "cell_type": "markdown",
   "source": [
    "### Data to the rescue"
   ],
   "metadata": {
    "collapsed": false
   },
   "id": "59155633ca183d0b"
  },
  {
   "cell_type": "markdown",
   "source": [
    "4.Over the years, we have seen that we expect `8%` of dogs in the FetchMaker system to be rescues. We want to know if whippets are significantly more or less likely to be a rescue.\n",
    "\n",
    "Store the `is_rescue` values for `\"whippet\"`s in a variable called `whippet_rescue`.\n"
   ],
   "metadata": {
    "collapsed": false
   },
   "id": "bad7ef3b48ac2fd"
  },
  {
   "cell_type": "code",
   "execution_count": 4,
   "outputs": [],
   "source": [
    "whippet_rescue = fetchmaker.get_is_rescue('whippet')\n",
    "whippet_rescue;"
   ],
   "metadata": {
    "collapsed": false,
    "ExecuteTime": {
     "end_time": "2023-12-24T20:53:15.868397Z",
     "start_time": "2023-12-24T20:53:15.831916Z"
    }
   },
   "id": "8d14cb6c3f33a4b8"
  },
  {
   "cell_type": "markdown",
   "source": [
    "5.Use `np.count_nonzero` to get the number of entries in `whippet_rescue` that are `1`. Store this number in a variable called `num_whippet_rescues`.\n"
   ],
   "metadata": {
    "collapsed": false
   },
   "id": "c93b352eef03d05f"
  },
  {
   "cell_type": "code",
   "execution_count": 5,
   "outputs": [
    {
     "data": {
      "text/plain": "6"
     },
     "execution_count": 5,
     "metadata": {},
     "output_type": "execute_result"
    }
   ],
   "source": [
    "num_whippet_rescues = np.count_nonzero(whippet_rescue)\n",
    "num_whippet_rescues"
   ],
   "metadata": {
    "collapsed": false,
    "ExecuteTime": {
     "end_time": "2023-12-24T20:53:15.879374Z",
     "start_time": "2023-12-24T20:53:15.839106Z"
    }
   },
   "id": "fea1848e236fae2f"
  },
  {
   "cell_type": "markdown",
   "source": [
    "6.Get the number of samples in the whippet set by taking the `np.size` of `whippet_rescue`. Store this in a variable called `num_whippets`.\n"
   ],
   "metadata": {
    "collapsed": false
   },
   "id": "a1d0fd7e5c02e389"
  },
  {
   "cell_type": "code",
   "execution_count": 6,
   "outputs": [
    {
     "data": {
      "text/plain": "100"
     },
     "execution_count": 6,
     "metadata": {},
     "output_type": "execute_result"
    }
   ],
   "source": [
    "num_whippets = np.size(whippet_rescue)\n",
    "num_whippets"
   ],
   "metadata": {
    "collapsed": false,
    "ExecuteTime": {
     "end_time": "2023-12-24T20:53:15.879695Z",
     "start_time": "2023-12-24T20:53:15.845538Z"
    }
   },
   "id": "7f8b66777e81c34"
  },
  {
   "cell_type": "markdown",
   "source": [
    "7.Use a binomial test to test the number of whippet rescues, `num_whippet_rescues`, against our expected percentage, 8%.\n",
    "\n",
    "Remember to import the binomial test by using `from scipy.stats import binom_test`.\n"
   ],
   "metadata": {
    "collapsed": false
   },
   "id": "84e8a77eb681cc2d"
  },
  {
   "cell_type": "code",
   "execution_count": 7,
   "outputs": [
    {
     "name": "stderr",
     "output_type": "stream",
     "text": [
      "/var/folders/f4/wfdsvyhd4471p6frw6wp_pb80000gn/T/ipykernel_4450/871791685.py:2: DeprecationWarning: 'binom_test' is deprecated in favour of 'binomtest' from version 1.7.0 and will be removed in Scipy 1.12.0.\n",
      "  pval = binom_test((num_whippet_rescues / num_whippets) * num_whippets, num_whippets, 0.08)\n"
     ]
    }
   ],
   "source": [
    "# recall pval =  binom_test(x, n, p)\n",
    "pval = binom_test((num_whippet_rescues / num_whippets) * num_whippets, num_whippets, 0.08)"
   ],
   "metadata": {
    "collapsed": false,
    "ExecuteTime": {
     "end_time": "2023-12-24T20:53:15.880173Z",
     "start_time": "2023-12-24T20:53:15.852025Z"
    }
   },
   "id": "e22d1bac819be9f2"
  },
  {
   "cell_type": "markdown",
   "source": [
    "8.Print out the p-value. Is your result significant?"
   ],
   "metadata": {
    "collapsed": false
   },
   "id": "3f651124262d50dc"
  },
  {
   "cell_type": "code",
   "execution_count": 8,
   "outputs": [
    {
     "name": "stdout",
     "output_type": "stream",
     "text": [
      "P-Value: 0.5811780106238111\n"
     ]
    }
   ],
   "source": [
    "print('P-Value:',pval)\n"
   ],
   "metadata": {
    "collapsed": false,
    "ExecuteTime": {
     "end_time": "2023-12-24T20:53:15.880460Z",
     "start_time": "2023-12-24T20:53:15.857357Z"
    }
   },
   "id": "167536763a756804"
  },
  {
   "cell_type": "markdown",
   "source": [
    "### Size does matter"
   ],
   "metadata": {
    "collapsed": false
   },
   "id": "ae0a3cc53c87c00c"
  },
  {
   "cell_type": "markdown",
   "source": [
    "9.Three of our most popular mid-sized dog breeds are whippets, terriers, and pitbulls. Is there a significant difference in the average weights of these three dog breeds? Perform a comparative numerical test to determine if there is a significant difference.\n",
    "\n",
    "Hint\n",
    "Use ANOVA for this scenario. First, use the line `from scipy.stats import f_oneway` to import SciPy’s ANOVA function."
   ],
   "metadata": {
    "collapsed": false
   },
   "id": "df83952175c722ca"
  },
  {
   "cell_type": "code",
   "execution_count": 9,
   "outputs": [
    {
     "name": "stdout",
     "output_type": "stream",
     "text": [
      "3.276415588274815e-17\n"
     ]
    }
   ],
   "source": [
    "# weight analysis: mid_sized dog breeds: whippet, terrier, pitbull\n",
    "w_whippet = fetchmaker.get_weight('whippet')\n",
    "w_terrier = fetchmaker.get_weight('terrier')\n",
    "w_pitbull = fetchmaker.get_weight('pitbull')\n",
    "\n",
    "# perform Anova Test analysis for dog's weights\n",
    "tstat, pval = f_oneway(w_whippet, w_terrier, w_pitbull)\n",
    "print(pval)\n"
   ],
   "metadata": {
    "collapsed": false,
    "ExecuteTime": {
     "end_time": "2023-12-24T20:53:15.881303Z",
     "start_time": "2023-12-24T20:53:15.862930Z"
    }
   },
   "id": "79526e14718e7c1c"
  },
  {
   "cell_type": "markdown",
   "source": [
    "10.\n",
    "Now, perform another test to determine which of the pairs of these dog breeds differ from each other.\n",
    "\n",
    "Hint\n",
    "Use Tukey’s Range Test for this scenario. First, use the line `from statsmodels.stats.multicomp import pairwise_tukeyhsd` to import the test."
   ],
   "metadata": {
    "collapsed": false
   },
   "id": "98d07403fa4f171b"
  },
  {
   "cell_type": "code",
   "execution_count": 10,
   "outputs": [
    {
     "name": "stdout",
     "output_type": "stream",
     "text": [
      "    Multiple Comparison of Means - Tukey HSD, FWER=0.05    \n",
      "===========================================================\n",
      "  group1    group2  meandiff p-adj   lower    upper  reject\n",
      "-----------------------------------------------------------\n",
      "w_pitbull w_terrier   -13.24    0.0 -16.7278 -9.7522   True\n",
      "w_pitbull w_whippet    -3.34 0.0638  -6.8278  0.1478  False\n",
      "w_terrier w_whippet      9.9    0.0   6.4122 13.3878   True\n",
      "-----------------------------------------------------------\n"
     ]
    }
   ],
   "source": [
    "# perfrom Tukey's Range Test\n",
    "v = np.concatenate([w_whippet, w_terrier, w_pitbull])\n",
    "labels = ['w_whippet'] * len(w_whippet) + ['w_terrier'] * len(w_terrier) + ['w_pitbull'] * len(w_pitbull)\n",
    "tukey_results = pairwise_tukeyhsd(v, labels, 0.05)\n",
    "print(tukey_results)"
   ],
   "metadata": {
    "collapsed": false,
    "ExecuteTime": {
     "end_time": "2023-12-24T20:53:16.284911Z",
     "start_time": "2023-12-24T20:53:15.870541Z"
    }
   },
   "id": "1482aa2ea6027fe4"
  },
  {
   "cell_type": "markdown",
   "source": [
    "### Categorical dog test"
   ],
   "metadata": {
    "collapsed": false
   },
   "id": "c5677580a7a5e836"
  },
  {
   "cell_type": "markdown",
   "source": [
    "11.We want to see if `\"poodle\"`s and `\"shihtzu\"`s have significantly different color breakdowns.\n",
    "\n",
    "Get the poodle colors and store it in a variable called `poodle_colors`.\n",
    "\n",
    "Get the shih tzu colors and store it in a variable called `shihtzu_colors`.\n",
    "\n",
    "Hint\n",
    "```py \n",
    "fetchmaker.get_color(\"poodle\")\n",
    "fetchmaker.get_color(\"shihtzu\")\n",
    "```"
   ],
   "metadata": {
    "collapsed": false
   },
   "id": "b71ba2409ebdc724"
  },
  {
   "cell_type": "code",
   "execution_count": 11,
   "outputs": [],
   "source": [
    "# get dog's breed colors\n",
    "poodle_colors = fetchmaker.get_color('poodle')\n",
    "shihtzu_colors = fetchmaker.get_color('shihtzu')"
   ],
   "metadata": {
    "collapsed": false,
    "ExecuteTime": {
     "end_time": "2023-12-24T20:53:16.292023Z",
     "start_time": "2023-12-24T20:53:16.284795Z"
    }
   },
   "id": "409f2eba963cf915"
  },
  {
   "cell_type": "markdown",
   "source": [
    "12.You can get the number of occurrences of brown poodles by using `np.count_nonzero(poodle_colors == \"brown\")`.\n",
    "\n",
    "Use this function to build a Chi Square contingency table, called `color_table`, with the following structure:\n",
    "\n",
    "Poodle\tShih Tzu\n",
    "Black\tx\tx\n",
    "Brown\tx\tx\n",
    "Gold\tx\tx\n",
    "Grey\tx\tx\n",
    "White\tx\tx\n",
    "\n",
    "Fill in the “x” entries with the number of each poodle or shih tzu with the specified color.\n",
    "\n",
    "Hint\n",
    "The `color_table` can be defined like this:\n",
    "```py\n",
    "color_table = [[x, x], [x, x], [x, x], [x, x], [x, x]]\n",
    "```\n",
    "where each inner array is a row of the table."
   ],
   "metadata": {
    "collapsed": false
   },
   "id": "c12475979387ce53"
  },
  {
   "cell_type": "code",
   "execution_count": 12,
   "outputs": [
    {
     "data": {
      "text/plain": "[[17, 10], [13, 36], [8, 6], [52, 41], [10, 7]]"
     },
     "execution_count": 12,
     "metadata": {},
     "output_type": "execute_result"
    }
   ],
   "source": [
    "# create pivot table 'Poodle' 'Shihtzu' and colors for Chi Square\n",
    "color_table = [\n",
    "  [np.count_nonzero(poodle_colors == 'black'), np.count_nonzero(shihtzu_colors == 'black')], \n",
    "  [np.count_nonzero(poodle_colors == 'brown'), np.count_nonzero(shihtzu_colors == 'brown')], \n",
    "  [np.count_nonzero(poodle_colors == 'gold'), np.count_nonzero(shihtzu_colors == 'gold')], \n",
    "  [np.count_nonzero(poodle_colors == 'grey'), np.count_nonzero(shihtzu_colors == 'grey')], \n",
    "  [np.count_nonzero(poodle_colors == 'white'), np.count_nonzero(shihtzu_colors == 'white')]\n",
    "  ]\n",
    "color_table"
   ],
   "metadata": {
    "collapsed": false,
    "ExecuteTime": {
     "end_time": "2023-12-24T20:53:16.333368Z",
     "start_time": "2023-12-24T20:53:16.291651Z"
    }
   },
   "id": "b019527417d1a5db"
  },
  {
   "cell_type": "markdown",
   "source": [
    "13.Feed your `color_table` into SciPy’s Chi Square test, save the p-value and print it out.\n",
    "\n",
    "Is there a significant difference?"
   ],
   "metadata": {
    "collapsed": false
   },
   "id": "1cdc3df91857b4ef"
  },
  {
   "cell_type": "code",
   "execution_count": 13,
   "outputs": [
    {
     "name": "stdout",
     "output_type": "stream",
     "text": [
      "P-value 0.005302408293244593\n"
     ]
    }
   ],
   "source": [
    "# perform Chi Square analysis\n",
    "chi2, pval, dof, expected = chi2_contingency(color_table)\n",
    "print('P-value', pval)"
   ],
   "metadata": {
    "collapsed": false,
    "ExecuteTime": {
     "end_time": "2023-12-24T20:53:16.342286Z",
     "start_time": "2023-12-24T20:53:16.301910Z"
    }
   },
   "id": "20168d9a4980f999"
  },
  {
   "cell_type": "markdown",
   "source": [
    "### Good learner! Have a treat!"
   ],
   "metadata": {
    "collapsed": false
   },
   "id": "1802356290b9521e"
  },
  {
   "cell_type": "markdown",
   "source": [
    "14.Great job!\n",
    "\n",
    "Feel free to play around with `fetchmaker` more and run some hypothesis tests of your own.\n",
    "\n",
    "The breeds you can explore are `\"poodle\"`, `\"rottweiler\"`, `\"whippet\"`, `\"greyhound\"`, `\"terrier\"`, `\"chihuahua\"`, `\"shihtzu\"`, and `\"pitbull\"`."
   ],
   "metadata": {
    "collapsed": false
   },
   "id": "7024b11e0783c2b4"
  },
  {
   "cell_type": "code",
   "execution_count": 13,
   "outputs": [],
   "source": [],
   "metadata": {
    "collapsed": false,
    "ExecuteTime": {
     "end_time": "2023-12-24T20:53:16.342792Z",
     "start_time": "2023-12-24T20:53:16.311507Z"
    }
   },
   "id": "613b483ba1ee2e55"
  }
 ],
 "metadata": {
  "kernelspec": {
   "display_name": "Python 3",
   "language": "python",
   "name": "python3"
  },
  "language_info": {
   "codemirror_mode": {
    "name": "ipython",
    "version": 2
   },
   "file_extension": ".py",
   "mimetype": "text/x-python",
   "name": "python",
   "nbconvert_exporter": "python",
   "pygments_lexer": "ipython2",
   "version": "2.7.6"
  }
 },
 "nbformat": 4,
 "nbformat_minor": 5
}
